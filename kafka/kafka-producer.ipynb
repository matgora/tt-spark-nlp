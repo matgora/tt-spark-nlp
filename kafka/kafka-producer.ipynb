{
 "cells": [
  {
   "cell_type": "code",
   "execution_count": 1,
   "metadata": {},
   "outputs": [],
   "source": [
    "from confluent_kafka import Producer\n",
    "import socket\n",
    "\n",
    "conf = {'bootstrap.servers': \"localhost:9092\",\n",
    "        'client.id': socket.gethostname()}\n",
    "\n",
    "producer = Producer(conf)"
   ]
  },
  {
   "cell_type": "code",
   "execution_count": 2,
   "metadata": {},
   "outputs": [],
   "source": [
    "topic = \"tt\""
   ]
  },
  {
   "cell_type": "code",
   "execution_count": 3,
   "metadata": {},
   "outputs": [],
   "source": [
    "from confluent_kafka import KafkaError, KafkaException,Message\n",
    "import sys\n"
   ]
  },
  {
   "cell_type": "code",
   "execution_count": 8,
   "metadata": {},
   "outputs": [
    {
     "name": "stdout",
     "output_type": "stream",
     "text": [
      "Producing record: alice\t{\"countf\": 0}\n",
      "Producing record: alice\t{\"countf\": 1}\n",
      "Producing record: alice\t{\"countf\": 2}\n",
      "Producing record: alice\t{\"countf\": 3}\n",
      "Producing record: alice\t{\"countf\": 4}\n",
      "Producing record: alice\t{\"countf\": 5}\n",
      "Producing record: alice\t{\"countf\": 6}\n",
      "Producing record: alice\t{\"countf\": 7}\n",
      "Producing record: alice\t{\"countf\": 8}\n",
      "Producing record: alice\t{\"countf\": 9}\n"
     ]
    }
   ],
   "source": [
    "import json\n",
    "\n",
    "for n in range(10):\n",
    "    record_key = f\"alice\"\n",
    "    record_value = json.dumps({'countf': n})\n",
    "    print(\"Producing record: {}\\t{}\".format(record_key, record_value))\n",
    "    producer.produce(topic, key=record_key, value=record_value)\n",
    "    # p.poll() serves delivery reports (on_delivery)\n",
    "    # from previous produce() calls.\n",
    "    producer.poll(0)\n"
   ]
  }
 ],
 "metadata": {
  "kernelspec": {
   "display_name": "Python 3",
   "language": "python",
   "name": "python3"
  },
  "language_info": {
   "codemirror_mode": {
    "name": "ipython",
    "version": 3
   },
   "file_extension": ".py",
   "mimetype": "text/x-python",
   "name": "python",
   "nbconvert_exporter": "python",
   "pygments_lexer": "ipython3",
   "version": "3.8.10"
  },
  "orig_nbformat": 4,
  "vscode": {
   "interpreter": {
    "hash": "916dbcbb3f70747c44a77c7bcd40155683ae19c65e1c03b4aa3499c5328201f1"
   }
  }
 },
 "nbformat": 4,
 "nbformat_minor": 2
}

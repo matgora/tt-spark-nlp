{
 "cells": [
  {
   "cell_type": "code",
   "execution_count": 6,
   "metadata": {},
   "outputs": [],
   "source": [
    "from confluent_kafka import Producer\n",
    "import socket\n",
    "\n",
    "conf = {'bootstrap.servers': \"localhost:9092\",\n",
    "        'client.id': socket.gethostname()}\n",
    "\n",
    "producer = Producer(conf)"
   ]
  },
  {
   "cell_type": "code",
   "execution_count": 34,
   "metadata": {},
   "outputs": [],
   "source": [
    "from confluent_kafka import Consumer\n",
    "\n",
    "conf = {'bootstrap.servers': \"localhost:9092\",\n",
    "        'group.id': \"foo\",\n",
    "        'auto.offset.reset': 'smallest'}\n",
    "\n",
    "consumer = Consumer(conf)"
   ]
  },
  {
   "cell_type": "code",
   "execution_count": 53,
   "metadata": {},
   "outputs": [],
   "source": [
    "topic = \"multimedia2\""
   ]
  },
  {
   "cell_type": "code",
   "execution_count": 15,
   "metadata": {},
   "outputs": [],
   "source": [
    "producer.produce(topic, key=\"key\", value=\"value\")"
   ]
  },
  {
   "cell_type": "code",
   "execution_count": 16,
   "metadata": {},
   "outputs": [
    {
     "name": "stdout",
     "output_type": "stream",
     "text": [
      "Message produced: <cimpl.Message object at 0x7f839811d840>\n"
     ]
    },
    {
     "data": {
      "text/plain": [
       "3"
      ]
     },
     "execution_count": 16,
     "metadata": {},
     "output_type": "execute_result"
    }
   ],
   "source": [
    "def acked(err, msg):\n",
    "    if err is not None:\n",
    "        print(\"Failed to deliver message: %s: %s\" % (str(msg), str(err)))\n",
    "    else:\n",
    "        print(\"Message produced: %s\" % (str(msg)))\n",
    "\n",
    "producer.produce(topic, key=\"key\", value=\"value\", callback=acked)\n",
    "\n",
    "# Wait up to 1 second for events. Callbacks will be invoked during\n",
    "# this method call if the message is acknowledged.\n",
    "producer.poll(1)"
   ]
  },
  {
   "cell_type": "code",
   "execution_count": 19,
   "metadata": {},
   "outputs": [],
   "source": [
    "from confluent_kafka import KafkaError, KafkaException,Message\n",
    "import sys\n"
   ]
  },
  {
   "cell_type": "code",
   "execution_count": 20,
   "metadata": {},
   "outputs": [],
   "source": [
    "def msg_process(msg):\n",
    "    print(f\"key: {msg.key().decode('utf-8')}, value: {msg.value().decode('utf-8')}\")"
   ]
  },
  {
   "cell_type": "code",
   "execution_count": 45,
   "metadata": {},
   "outputs": [
    {
     "name": "stdout",
     "output_type": "stream",
     "text": [
      "Producing record: alice\t{\"count\": 0}\n",
      "Message produced: <cimpl.Message object at 0x7f83811d88c0>\n",
      "Message produced: <cimpl.Message object at 0x7f83811d88c0>\n",
      "Message produced: <cimpl.Message object at 0x7f83811d88c0>\n",
      "Message produced: <cimpl.Message object at 0x7f83811d88c0>\n",
      "Message produced: <cimpl.Message object at 0x7f83811d88c0>\n",
      "Message produced: <cimpl.Message object at 0x7f83811d88c0>\n",
      "Message produced: <cimpl.Message object at 0x7f83811d88c0>\n",
      "Message produced: <cimpl.Message object at 0x7f83811d88c0>\n",
      "Message produced: <cimpl.Message object at 0x7f83811d88c0>\n",
      "Message produced: <cimpl.Message object at 0x7f83811d88c0>\n",
      "Producing record: alice\t{\"count\": 1}\n",
      "Producing record: alice\t{\"count\": 2}\n",
      "Producing record: alice\t{\"count\": 3}\n",
      "Producing record: alice\t{\"count\": 4}\n",
      "Producing record: alice\t{\"count\": 5}\n",
      "Producing record: alice\t{\"count\": 6}\n",
      "Producing record: alice\t{\"count\": 7}\n",
      "Producing record: alice\t{\"count\": 8}\n",
      "Producing record: alice\t{\"count\": 9}\n"
     ]
    }
   ],
   "source": [
    "import json\n",
    "\n",
    "for n in range(10):\n",
    "    record_key = f\"alice\"\n",
    "    record_value = json.dumps({'count': n})\n",
    "    print(\"Producing record: {}\\t{}\".format(record_key, record_value))\n",
    "    producer.produce(topic, key=record_key, value=record_value, on_delivery=acked)\n",
    "    # p.poll() serves delivery reports (on_delivery)\n",
    "    # from previous produce() calls.\n",
    "    producer.poll(0)\n"
   ]
  },
  {
   "cell_type": "code",
   "execution_count": 52,
   "metadata": {},
   "outputs": [],
   "source": [
    "from confluent_kafka import Consumer\n",
    "\n",
    "conf = {'bootstrap.servers': \"localhost:9092\",\n",
    "        'group.id': \"foo\",\n",
    "        'auto.offset.reset': 'smallest'}\n",
    "\n",
    "consumer = Consumer(conf)"
   ]
  },
  {
   "cell_type": "code",
   "execution_count": 54,
   "metadata": {},
   "outputs": [
    {
     "name": "stdout",
     "output_type": "stream",
     "text": [
      "Waiting for message or event/error in poll()\n",
      "Waiting for message or event/error in poll()\n",
      "Waiting for message or event/error in poll()\n",
      "Waiting for message or event/error in poll()\n",
      "Consumed record with key b'alice' and value b'{\"count\": 0}',                     and updated total count to 0\n",
      "Consumed record with key b'alice' and value b'{\"count\": 1}',                     and updated total count to 1\n",
      "Consumed record with key b'alice' and value b'{\"count\": 2}',                     and updated total count to 3\n",
      "Consumed record with key b'alice' and value b'{\"count\": 3}',                     and updated total count to 6\n",
      "Consumed record with key b'alice' and value b'{\"count\": 4}',                     and updated total count to 10\n",
      "Consumed record with key b'alice' and value b'{\"count\": 5}',                     and updated total count to 15\n",
      "Consumed record with key b'alice' and value b'{\"count\": 6}',                     and updated total count to 21\n",
      "Consumed record with key b'alice' and value b'{\"count\": 7}',                     and updated total count to 28\n",
      "Consumed record with key b'alice' and value b'{\"count\": 8}',                     and updated total count to 36\n",
      "Consumed record with key b'alice' and value b'{\"count\": 9}',                     and updated total count to 45\n",
      "Waiting for message or event/error in poll()\n",
      "Waiting for message or event/error in poll()\n",
      "Waiting for message or event/error in poll()\n",
      "Waiting for message or event/error in poll()\n",
      "Waiting for message or event/error in poll()\n",
      "Waiting for message or event/error in poll()\n",
      "Waiting for message or event/error in poll()\n",
      "Waiting for message or event/error in poll()\n",
      "Waiting for message or event/error in poll()\n",
      "Waiting for message or event/error in poll()\n",
      "Waiting for message or event/error in poll()\n",
      "Waiting for message or event/error in poll()\n",
      "Waiting for message or event/error in poll()\n",
      "Waiting for message or event/error in poll()\n",
      "Waiting for message or event/error in poll()\n",
      "Waiting for message or event/error in poll()\n",
      "Waiting for message or event/error in poll()\n",
      "Waiting for message or event/error in poll()\n",
      "Waiting for message or event/error in poll()\n",
      "Waiting for message or event/error in poll()\n",
      "Waiting for message or event/error in poll()\n",
      "Waiting for message or event/error in poll()\n",
      "Waiting for message or event/error in poll()\n",
      "Waiting for message or event/error in poll()\n",
      "Waiting for message or event/error in poll()\n",
      "Waiting for message or event/error in poll()\n",
      "Waiting for message or event/error in poll()\n",
      "Waiting for message or event/error in poll()\n",
      "Waiting for message or event/error in poll()\n",
      "Waiting for message or event/error in poll()\n",
      "Waiting for message or event/error in poll()\n",
      "Waiting for message or event/error in poll()\n",
      "Waiting for message or event/error in poll()\n",
      "Waiting for message or event/error in poll()\n",
      "Waiting for message or event/error in poll()\n",
      "Waiting for message or event/error in poll()\n",
      "Waiting for message or event/error in poll()\n",
      "Waiting for message or event/error in poll()\n",
      "Waiting for message or event/error in poll()\n",
      "Waiting for message or event/error in poll()\n",
      "Waiting for message or event/error in poll()\n",
      "Waiting for message or event/error in poll()\n"
     ]
    }
   ],
   "source": [
    "consumer.subscribe([topic])\n",
    "    # Process messages\n",
    "total_count = 0\n",
    "try:\n",
    "    while True:\n",
    "        msg = consumer.poll(1.0)\n",
    "        if msg is None:\n",
    "            # No message available within timeout.\n",
    "            # Initial message consumption may take up to\n",
    "            # `session.timeout.ms` for the consumer group to\n",
    "            # rebalance and start consuming\n",
    "            print(\"Waiting for message or event/error in poll()\")\n",
    "            continue\n",
    "        elif msg.error():\n",
    "            print('error: {}'.format(msg.error()))\n",
    "        else:\n",
    "            # Check for Kafka message\n",
    "            record_key = msg.key()\n",
    "            record_value = msg.value()\n",
    "            data = json.loads(record_value)\n",
    "            count = data['count']\n",
    "            total_count += count\n",
    "            print(\"Consumed record with key {} and value {}, \\\n",
    "                    and updated total count to {}\"\n",
    "                    .format(record_key, record_value, total_count))\n",
    "except KeyboardInterrupt:\n",
    "    pass\n",
    "finally:\n",
    "    # Leave group and commit final offsets\n",
    "    consumer.close()"
   ]
  },
  {
   "cell_type": "code",
   "execution_count": 29,
   "metadata": {},
   "outputs": [
    {
     "ename": "AttributeError",
     "evalue": "'NoneType' object has no attribute 'decode'",
     "output_type": "error",
     "traceback": [
      "\u001b[0;31m---------------------------------------------------------------------------\u001b[0m",
      "\u001b[0;31mAttributeError\u001b[0m                            Traceback (most recent call last)",
      "\u001b[1;32m/home/linux/Desktop/project_multimedia/kafka.ipynb Cell 9\u001b[0m in \u001b[0;36m<cell line: 1>\u001b[0;34m()\u001b[0m\n\u001b[0;32m----> <a href='vscode-notebook-cell:/home/linux/Desktop/project_multimedia/kafka.ipynb#X13sZmlsZQ%3D%3D?line=0'>1</a>\u001b[0m basic_consume_loop(consumer, [topic])\n",
      "\u001b[1;32m/home/linux/Desktop/project_multimedia/kafka.ipynb Cell 9\u001b[0m in \u001b[0;36mbasic_consume_loop\u001b[0;34m(consumer, topics)\u001b[0m\n\u001b[1;32m     <a href='vscode-notebook-cell:/home/linux/Desktop/project_multimedia/kafka.ipynb#X13sZmlsZQ%3D%3D?line=16'>17</a>\u001b[0m                 \u001b[39mraise\u001b[39;00m KafkaException(msg\u001b[39m.\u001b[39merror())\n\u001b[1;32m     <a href='vscode-notebook-cell:/home/linux/Desktop/project_multimedia/kafka.ipynb#X13sZmlsZQ%3D%3D?line=17'>18</a>\u001b[0m         \u001b[39melse\u001b[39;00m:\n\u001b[0;32m---> <a href='vscode-notebook-cell:/home/linux/Desktop/project_multimedia/kafka.ipynb#X13sZmlsZQ%3D%3D?line=18'>19</a>\u001b[0m             msg_process(msg)\n\u001b[1;32m     <a href='vscode-notebook-cell:/home/linux/Desktop/project_multimedia/kafka.ipynb#X13sZmlsZQ%3D%3D?line=19'>20</a>\u001b[0m \u001b[39mfinally\u001b[39;00m:\n\u001b[1;32m     <a href='vscode-notebook-cell:/home/linux/Desktop/project_multimedia/kafka.ipynb#X13sZmlsZQ%3D%3D?line=20'>21</a>\u001b[0m     \u001b[39m# Close down consumer to commit final offsets.\u001b[39;00m\n\u001b[1;32m     <a href='vscode-notebook-cell:/home/linux/Desktop/project_multimedia/kafka.ipynb#X13sZmlsZQ%3D%3D?line=21'>22</a>\u001b[0m     consumer\u001b[39m.\u001b[39mclose()\n",
      "\u001b[1;32m/home/linux/Desktop/project_multimedia/kafka.ipynb Cell 9\u001b[0m in \u001b[0;36mmsg_process\u001b[0;34m(msg)\u001b[0m\n\u001b[1;32m      <a href='vscode-notebook-cell:/home/linux/Desktop/project_multimedia/kafka.ipynb#X13sZmlsZQ%3D%3D?line=0'>1</a>\u001b[0m \u001b[39mdef\u001b[39;00m \u001b[39mmsg_process\u001b[39m(msg):\n\u001b[0;32m----> <a href='vscode-notebook-cell:/home/linux/Desktop/project_multimedia/kafka.ipynb#X13sZmlsZQ%3D%3D?line=1'>2</a>\u001b[0m     \u001b[39mprint\u001b[39m(\u001b[39mf\u001b[39m\u001b[39m\"\u001b[39m\u001b[39mkey: \u001b[39m\u001b[39m{\u001b[39;00mmsg\u001b[39m.\u001b[39mkey()\u001b[39m.\u001b[39mdecode(\u001b[39m'\u001b[39m\u001b[39mutf-8\u001b[39m\u001b[39m'\u001b[39m)\u001b[39m}\u001b[39;00m\u001b[39m, value: \u001b[39m\u001b[39m{\u001b[39;00mmsg\u001b[39m.\u001b[39mvalue()\u001b[39m.\u001b[39mdecode(\u001b[39m'\u001b[39m\u001b[39mutf-8\u001b[39m\u001b[39m'\u001b[39m)\u001b[39m}\u001b[39;00m\u001b[39m\"\u001b[39m)\n",
      "\u001b[0;31mAttributeError\u001b[0m: 'NoneType' object has no attribute 'decode'"
     ]
    }
   ],
   "source": [
    "basic_consume_loop(consumer, [topic])"
   ]
  },
  {
   "cell_type": "code",
   "execution_count": 23,
   "metadata": {},
   "outputs": [],
   "source": [
    "from confluent_kafka import Consumer\n",
    "\n",
    "def commit_completed(err, partitions):\n",
    "    if err:\n",
    "        print(str(err))\n",
    "    else:\n",
    "        print(\"Committed partition offsets: \" + str(partitions))\n",
    "\n",
    "conf = {'bootstrap.servers': \"localhost:9092\",\n",
    "        'group.id': \"foo\",\n",
    "        'default.topic.config': {'auto.offset.reset': 'smallest'},\n",
    "        'on_commit': commit_completed}\n",
    "\n",
    "consumer = Consumer(conf)"
   ]
  }
 ],
 "metadata": {
  "kernelspec": {
   "display_name": "Python 3",
   "language": "python",
   "name": "python3"
  },
  "language_info": {
   "codemirror_mode": {
    "name": "ipython",
    "version": 3
   },
   "file_extension": ".py",
   "mimetype": "text/x-python",
   "name": "python",
   "nbconvert_exporter": "python",
   "pygments_lexer": "ipython3",
   "version": "3.8.10"
  },
  "orig_nbformat": 4,
  "vscode": {
   "interpreter": {
    "hash": "916dbcbb3f70747c44a77c7bcd40155683ae19c65e1c03b4aa3499c5328201f1"
   }
  }
 },
 "nbformat": 4,
 "nbformat_minor": 2
}
